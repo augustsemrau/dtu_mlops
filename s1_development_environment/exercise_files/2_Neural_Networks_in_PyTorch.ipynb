{
 "cells": [
  {
   "cell_type": "markdown",
   "metadata": {},
   "source": [
    "# Neural networks with PyTorch\n",
    "\n",
    "Deep learning networks tend to be massive with dozens or hundreds of layers, that's where the term \"deep\" comes from. You can build one of these deep networks using only weight matrices as we did in the previous notebook, but in general it's very cumbersome and difficult to implement. PyTorch has a nice module `nn` that provides a nice way to efficiently build large neural networks."
   ]
  },
  {
   "cell_type": "code",
   "execution_count": 2,
   "metadata": {
    "collapsed": true
   },
   "outputs": [],
   "source": [
    "# Import necessary packages\n",
    "\n",
    "%matplotlib inline\n",
    "%config InlineBackend.figure_format = 'retina'\n",
    "\n",
    "import numpy as np\n",
    "import torch\n",
    "\n",
    "import helper\n",
    "\n",
    "import matplotlib.pyplot as plt"
   ]
  },
  {
   "cell_type": "markdown",
   "metadata": {},
   "source": [
    "\n",
    "Now we're going to build a larger network that can solve a (formerly) difficult problem, identifying text in an image. Here we'll use the MNIST dataset which consists of greyscale handwritten digits. Each image is 28x28 pixels, you can see a sample below\n",
    "\n",
    "<img src='assets/mnist.png'>\n",
    "\n",
    "Our goal is to build a neural network that can take one of these images and predict the digit in the image.\n",
    "\n",
    "First up, we need to get our dataset. This is provided through the `torchvision` package. The code below will download the MNIST dataset, then create training and test datasets for us. Don't worry too much about the details here, you'll learn more about this later."
   ]
  },
  {
   "cell_type": "code",
   "execution_count": 3,
   "metadata": {
    "collapsed": true
   },
   "outputs": [],
   "source": [
    "### Run this cell\n",
    "\n",
    "from torchvision import datasets, transforms\n",
    "\n",
    "# Define a transform to normalize the data\n",
    "transform = transforms.Compose([transforms.ToTensor(),\n",
    "                              transforms.Normalize((0.5,), (0.5,)),\n",
    "                              ])\n",
    "\n",
    "# Download and load the training data\n",
    "trainset = datasets.MNIST('~/.pytorch/MNIST_data/', download=True, train=True, transform=transform)\n",
    "trainloader = torch.utils.data.DataLoader(trainset, batch_size=64, shuffle=True)"
   ]
  },
  {
   "cell_type": "markdown",
   "metadata": {},
   "source": [
    "We have the training data loaded into `trainloader` and we make that an iterator with `iter(trainloader)`. Later, we'll use this to loop through the dataset for training, like\n",
    "\n",
    "```python\n",
    "for image, label in trainloader:\n",
    "    ## do things with images and labels\n",
    "```\n",
    "\n",
    "You'll notice I created the `trainloader` with a batch size of 64, and `shuffle=True`. The batch size is the number of images we get in one iteration from the data loader and pass through our network, often called a *batch*. And `shuffle=True` tells it to shuffle the dataset every time we start going through the data loader again. But here I'm just grabbing the first batch so we can check out the data. We can see below that `images` is just a tensor with size `(64, 1, 28, 28)`. So, 64 images per batch, 1 color channel, and 28x28 images."
   ]
  },
  {
   "cell_type": "code",
   "execution_count": 4,
   "metadata": {},
   "outputs": [
    {
     "name": "stdout",
     "output_type": "stream",
     "text": [
      "<class 'torch.Tensor'>\n",
      "torch.Size([64, 1, 28, 28])\n",
      "torch.Size([64])\n"
     ]
    }
   ],
   "source": [
    "dataiter = iter(trainloader)\n",
    "images, labels = next(dataiter)\n",
    "print(type(images))\n",
    "print(images.shape)\n",
    "print(labels.shape)"
   ]
  },
  {
   "cell_type": "markdown",
   "metadata": {},
   "source": [
    "This is what one of the images looks like. "
   ]
  },
  {
   "cell_type": "code",
   "execution_count": 5,
   "metadata": {},
   "outputs": [
    {
     "data": {
      "image/png": "[encoded data removed]",
      "text/plain": [
       "<Figure size 640x480 with 1 Axes>"
      ]
     },
     "metadata": {
      "image/png": {
       "height": 413,
       "width": 417
      }
     },
     "output_type": "display_data"
    }
   ],
   "source": [
    "plt.imshow(images[1].numpy().squeeze(), cmap='Greys_r');"
   ]
  },
  {
   "cell_type": "markdown",
   "metadata": {},
   "source": [
    "First, let's try to build a simple network for this dataset using weight matrices and matrix multiplications. Then, we'll see how to do it using PyTorch's `nn` module which provides a much more convenient and powerful method for defining network architectures.\n",
    "\n",
    "The networks you've seen so far are called *fully-connected* or *dense* networks. Each unit in one layer is connected to each unit in the next layer. In fully-connected networks, the input to each layer must be a one-dimensional vector (which can be stacked into a 2D tensor as a batch of multiple examples). However, our images are 28x28 2D tensors, so we need to convert them into 1D vectors. Thinking about sizes, we need to convert the batch of images with shape `(64, 1, 28, 28)` to a have a shape of `(64, 784)`, 784 is 28 times 28. This is typically called *flattening*, we flattened the 2D images into 1D vectors.\n",
    "\n",
    "Previously you built a network with one output unit. Here we need 10 output units, one for each digit. We want our network to predict the digit shown in an image, so what we'll do is calculate probabilities that the image is of any one digit or class. This ends up being a discrete probability distribution over the classes (digits) that tells us the most likely class for the image. That means we need 10 output units for the 10 classes (digits). We'll see how to convert the network output into a probability distribution next.\n",
    "\n",
    "> **Exercise:** Flatten the batch of images `images`. Then build a multi-layer network with 784 input units, 256 hidden units, and 10 output units using random tensors for the weights and biases. For now, use a sigmoid activation for the hidden layer. Leave the output layer without an activation, we'll add one that gives us a probability distribution next."
   ]
  },
  {
   "cell_type": "code",
   "execution_count": 6,
   "metadata": {
    "collapsed": true
   },
   "outputs": [],
   "source": [
    "## Your solution   \n",
    "\n",
    "## Activation function\n",
    "def activation(x):\n",
    "    \"\"\" Sigmoid activation function \n",
    "        Arguments\n",
    "        ---------\n",
    "        x: torch.Tensor\n",
    "    \"\"\"\n",
    "    return 1/(1+torch.exp(-x))\n",
    "\n",
    "### Neural network\n",
    "def multi_Layer_NW(inputUnits, hiddenUnits, outputUnits):\n",
    "    torch.manual_seed(7) # Set the random seed so things are predictable\n",
    "\n",
    "    # Define the size of each layer in our network\n",
    "    n_input = inputUnits     # Number of input units, must match number of input features\n",
    "    n_hidden = hiddenUnits   # Number of hidden units \n",
    "    n_output = outputUnits   # Number of output units\n",
    "\n",
    "    # Weights for inputs to hidden layer\n",
    "    W1 = torch.randn(n_input, n_hidden)\n",
    "    # Weights for hidden layer to output layer\n",
    "    W2 = torch.randn(n_hidden, n_output)\n",
    "\n",
    "    # and bias terms for hidden and output layers\n",
    "    B1 = torch.randn((1, n_hidden))\n",
    "    B2 = torch.randn((1, n_output))\n",
    "\n",
    "    return W1,W2,B1,B2\n",
    "\n",
    "def calc_output(features,W1,W2,B1,B2):\n",
    "    h = activation(torch.matmul(features,W1).add_(B1))\n",
    "    output = activation(torch.matmul(h,W2).add_(B2))\n",
    "    return output\n",
    "\n",
    "# Features are flattened batch input\n",
    "features = torch.flatten(images,start_dim=1)\n",
    "W1,W2,B1,B2 = multi_Layer_NW(features.shape[1],256,10)\n",
    "\n",
    "out = calc_output(features,W1,W2,B1,B2) # output of your network, should have shape (64,10)"
   ]
  },
  {
   "cell_type": "markdown",
   "metadata": {},
   "source": [
    "Now we have 10 outputs for our network. We want to pass in an image to our network and get out a probability distribution over the classes that tells us the likely class(es) the image belongs to. Something that looks like this:\n",
    "<img src='assets/image_distribution.png' width=500px>\n",
    "\n",
    "Here we see that the probability for each class is roughly the same. This is representing an untrained network, it hasn't seen any data yet so it just returns a uniform distribution with equal probabilities for each class.\n",
    "\n",
    "To calculate this probability distribution, we often use the [**softmax** function](https://en.wikipedia.org/wiki/Softmax_function). Mathematically this looks like\n",
    "\n",
    "$$\n",
    "\\Large \\sigma(x_i) = \\cfrac{e^{x_i}}{\\sum_k^K{e^{x_k}}}\n",
    "$$\n",
    "\n",
    "What this does is squish each input $x_i$ between 0 and 1 and normalizes the values to give you a proper probability distribution where the probabilities sum up to one.\n",
    "\n",
    "> **Exercise:** Implement a function `softmax` that performs the softmax calculation and returns probability distributions for each example in the batch. Note that you'll need to pay attention to the shapes when doing this. If you have a tensor `a` with shape `(64, 10)` and a tensor `b` with shape `(64,)`, doing `a/b` will give you an error because PyTorch will try to do the division across the columns (called broadcasting) but you'll get a size mismatch. The way to think about this is for each of the 64 examples, you only want to divide by one value, the sum in the denominator. So you need `b` to have a shape of `(64, 1)`. This way PyTorch will divide the 10 values in each row of `a` by the one value in each row of `b`. Pay attention to how you take the sum as well. You'll need to define the `dim` keyword in `torch.sum`. Setting `dim=0` takes the sum across the rows while `dim=1` takes the sum across the columns."
   ]
  },
  {
   "cell_type": "code",
   "execution_count": 7,
   "metadata": {
    "collapsed": true
   },
   "outputs": [
    {
     "name": "stdout",
     "output_type": "stream",
     "text": [
      "torch.Size([64, 10])\n",
      "tensor([1.0000, 1.0000, 1.0000, 1.0000, 1.0000, 1.0000, 1.0000, 1.0000, 1.0000,\n",
      "        1.0000, 1.0000, 1.0000, 1.0000, 1.0000, 1.0000, 1.0000, 1.0000, 1.0000,\n",
      "        1.0000, 1.0000, 1.0000, 1.0000, 1.0000, 1.0000, 1.0000, 1.0000, 1.0000,\n",
      "        1.0000, 1.0000, 1.0000, 1.0000, 1.0000, 1.0000, 1.0000, 1.0000, 1.0000,\n",
      "        1.0000, 1.0000, 1.0000, 1.0000, 1.0000, 1.0000, 1.0000, 1.0000, 1.0000,\n",
      "        1.0000, 1.0000, 1.0000, 1.0000, 1.0000, 1.0000, 1.0000, 1.0000, 1.0000,\n",
      "        1.0000, 1.0000, 1.0000, 1.0000, 1.0000, 1.0000, 1.0000, 1.0000, 1.0000,\n",
      "        1.0000])\n"
     ]
    }
   ],
   "source": [
    "def softmax(x):\n",
    "    ## TODO: Implement the softmax function here\n",
    "    return torch.exp(x)/torch.sum(torch.exp(x),dim=1).view(-1,1)\n",
    "\n",
    "# Here, out should be the output of the network in the previous exercise with shape (64,10)\n",
    "probabilities = softmax(out)\n",
    "\n",
    "# Does it have the right shape? Should be (64, 10)\n",
    "print(probabilities.shape)\n",
    "# Does it sum to 1?\n",
    "print(probabilities.sum(dim=1))"
   ]
  },
  {
   "cell_type": "markdown",
   "metadata": {},
   "source": [
    "## Building networks with PyTorch\n",
    "\n",
    "PyTorch provides a module `nn` that makes building networks much simpler. Here I'll show you how to build the same one as above with 784 inputs, 256 hidden units, 10 output units and a softmax output."
   ]
  },
  {
   "cell_type": "code",
   "execution_count": 8,
   "metadata": {
    "collapsed": true
   },
   "outputs": [],
   "source": [
    "from torch import nn"
   ]
  },
  {
   "cell_type": "code",
   "execution_count": 9,
   "metadata": {
    "collapsed": true
   },
   "outputs": [],
   "source": [
    "class Network(nn.Module):\n",
    "    def __init__(self):\n",
    "        super().__init__()\n",
    "        \n",
    "        # Inputs to hidden layer linear transformation\n",
    "        self.hidden = nn.Linear(784, 256)\n",
    "        # Output layer, 10 units - one for each digit\n",
    "        self.output = nn.Linear(256, 10)\n",
    "        \n",
    "        # Define sigmoid activation and softmax output \n",
    "        self.sigmoid = nn.Sigmoid()\n",
    "        self.softmax = nn.Softmax(dim=1)\n",
    "        \n",
    "    def forward(self, x):\n",
    "        # Pass the input tensor through each of our operations\n",
    "        x = self.hidden(x)\n",
    "        x = self.sigmoid(x)\n",
    "        x = self.output(x)\n",
    "        x = self.softmax(x)\n",
    "        \n",
    "        return x"
   ]
  },
  {
   "cell_type": "markdown",
   "metadata": {},
   "source": [
    "Let's go through this bit by bit.\n",
    "\n",
    "```python\n",
    "class Network(nn.Module):\n",
    "```\n",
    "\n",
    "Here we're inheriting from `nn.Module`. Combined with `super().__init__()` this creates a class that tracks the architecture and provides a lot of useful methods and attributes. It is mandatory to inherit from `nn.Module` when you're creating a class for your network. The name of the class itself can be anything.\n",
    "\n",
    "```python\n",
    "self.hidden = nn.Linear(784, 256)\n",
    "```\n",
    "\n",
    "This line creates a module for a linear transformation, $x\\mathbf{W} + b$, with 784 inputs and 256 outputs and assigns it to `self.hidden`. The module automatically creates the weight and bias tensors which we'll use in the `forward` method. You can access the weight and bias tensors once the network (`net`) is created with `net.hidden.weight` and `net.hidden.bias`.\n",
    "\n",
    "```python\n",
    "self.output = nn.Linear(256, 10)\n",
    "```\n",
    "\n",
    "Similarly, this creates another linear transformation with 256 inputs and 10 outputs.\n",
    "\n",
    "```python\n",
    "self.sigmoid = nn.Sigmoid()\n",
    "self.softmax = nn.Softmax(dim=1)\n",
    "```\n",
    "\n",
    "Here I defined operations for the sigmoid activation and softmax output. Setting `dim=1` in `nn.Softmax(dim=1)` calculates softmax across the columns.\n",
    "\n",
    "```python\n",
    "def forward(self, x):\n",
    "```\n",
    "\n",
    "PyTorch networks created with `nn.Module` must have a `forward` method defined. It takes in a tensor `x` and passes it through the operations you defined in the `__init__` method.\n",
    "\n",
    "```python\n",
    "x = self.hidden(x)\n",
    "x = self.sigmoid(x)\n",
    "x = self.output(x)\n",
    "x = self.softmax(x)\n",
    "```\n",
    "\n",
    "Here the input tensor `x` is passed through each operation and reassigned to `x`. We can see that the input tensor goes through the hidden layer, then a sigmoid function, then the output layer, and finally the softmax function. It doesn't matter what you name the variables here, as long as the inputs and outputs of the operations match the network architecture you want to build. The order in which you define things in the `__init__` method doesn't matter, but you'll need to sequence the operations correctly in the `forward` method.\n",
    "\n",
    "Now we can create a `Network` object."
   ]
  },
  {
   "cell_type": "code",
   "execution_count": 10,
   "metadata": {
    "collapsed": true
   },
   "outputs": [
    {
     "data": {
      "text/plain": [
       "Network(\n",
       "  (hidden): Linear(in_features=784, out_features=256, bias=True)\n",
       "  (output): Linear(in_features=256, out_features=10, bias=True)\n",
       "  (sigmoid): Sigmoid()\n",
       "  (softmax): Softmax(dim=1)\n",
       ")"
      ]
     },
     "execution_count": 10,
     "metadata": {},
     "output_type": "execute_result"
    }
   ],
   "source": [
    "# Create the network and look at its text representation\n",
    "model = Network()\n",
    "model"
   ]
  },
  {
   "cell_type": "markdown",
   "metadata": {},
   "source": [
    "You can define the network somewhat more concisely and clearly using the `torch.nn.functional` module. This is the most common way you'll see networks defined as many operations are simple element-wise functions. We normally import this module as `F`, `import torch.nn.functional as F`."
   ]
  },
  {
   "cell_type": "code",
   "execution_count": 11,
   "metadata": {
    "collapsed": true
   },
   "outputs": [],
   "source": [
    "import torch.nn.functional as F\n",
    "\n",
    "class Network(nn.Module):\n",
    "    def __init__(self):\n",
    "        super().__init__()\n",
    "        # Inputs to hidden layer linear transformation\n",
    "        self.hidden = nn.Linear(784, 256)\n",
    "        # Output layer, 10 units - one for each digit\n",
    "        self.output = nn.Linear(256, 10)\n",
    "        \n",
    "    def forward(self, x):\n",
    "        # Hidden layer with sigmoid activation\n",
    "        x = F.sigmoid(self.hidden(x))\n",
    "        # Output layer with softmax activation\n",
    "        x = F.softmax(self.output(x), dim=1)\n",
    "        \n",
    "        return x"
   ]
  },
  {
   "cell_type": "markdown",
   "metadata": {},
   "source": [
    "### Activation functions\n",
    "\n",
    "So far we've only been looking at the sigmoid activation function, but in general any function can be used as an activation function. The only requirement is that for a network to approximate a non-linear function, the activation functions must be non-linear. Here are a few more examples of common activation functions: Tanh (hyperbolic tangent), and ReLU (rectified linear unit).\n",
    "\n",
    "<img src=\"assets/activation.png\" width=700px>\n",
    "\n",
    "In practice, the ReLU function is used almost exclusively as the activation function for hidden layers."
   ]
  },
  {
   "cell_type": "markdown",
   "metadata": {},
   "source": [
    "### Your Turn to Build a Network\n",
    "\n",
    "<img src=\"assets/mlp_mnist.png\" width=600px>\n",
    "\n",
    "> **Exercise:** Create a network with 784 input units, a hidden layer with 128 units and a ReLU activation, then a hidden layer with 64 units and a ReLU activation, and finally an output layer with a softmax activation as shown above. You can use a ReLU activation with the `nn.ReLU` module or `F.relu` function.\n",
    "\n",
    "It's good practice to name your layers by their type of network, for instance 'fc' to represent a fully-connected layer. As you code your solution, use `fc1`, `fc2`, and `fc3` as your layer names."
   ]
  },
  {
   "cell_type": "code",
   "execution_count": 12,
   "metadata": {
    "collapsed": true,
    "scrolled": true
   },
   "outputs": [
    {
     "data": {
      "text/plain": [
       "Network(\n",
       "  (hidden1): Linear(in_features=784, out_features=128, bias=True)\n",
       "  (hidden2): Linear(in_features=128, out_features=64, bias=True)\n",
       "  (fc1): Linear(in_features=64, out_features=10, bias=True)\n",
       ")"
      ]
     },
     "execution_count": 12,
     "metadata": {},
     "output_type": "execute_result"
    }
   ],
   "source": [
    "## Your solution of the above code\n",
    "# Create a network with 784 input units, a hidden layer with 128 units and a ReLU activation, then a hidden layer with 64 units and a ReLU activation, and finally an output layer with a softmax activation as shown above. You can use a ReLU activation with the `nn.ReLU` module or `F.relu` function.\n",
    "# the network's forward layer should be denoted fc1\n",
    "\n",
    "## Your solution\n",
    "class Network(nn.Module):\n",
    "    def __init__(self):\n",
    "        super().__init__()\n",
    "        # Inputs to hidden layer linear transformation\n",
    "        self.hidden1 = nn.Linear(784, 128)\n",
    "        # Output layer, 10 units - one for each digit\n",
    "        self.hidden2 = nn.Linear(128, 64)\n",
    "        self.fc1 = nn.Linear(64, 10)\n",
    "        \n",
    "    def forward(self, x):\n",
    "        # Hidden layer with sigmoid activation\n",
    "        x = F.relu(self.hidden1(x))\n",
    "        x = F.relu(self.hidden2(x))\n",
    "        # Output layer with softmax activation\n",
    "        x = F.softmax(self.fc1(x), dim=1)\n",
    "        \n",
    "        return x\n",
    "    \n",
    "model = Network()\n",
    "model\n"
   ]
  },
  {
   "cell_type": "markdown",
   "metadata": {},
   "source": [
    "### Initializing weights and biases\n",
    "\n",
    "The weights and such are automatically initialized for you, but it's possible to customize how they are initialized. The weights and biases are tensors attached to the layer you defined, you can get them with `model.fc1.weight` for instance."
   ]
  },
  {
   "cell_type": "code",
   "execution_count": 13,
   "metadata": {
    "collapsed": true
   },
   "outputs": [
    {
     "name": "stdout",
     "output_type": "stream",
     "text": [
      "Parameter containing:\n",
      "tensor([[-0.0237, -0.1110, -0.0873,  0.0561, -0.0934,  0.0996,  0.0246, -0.1034,\n",
      "         -0.0640,  0.0825,  0.1022,  0.0104, -0.0472,  0.0121, -0.0953,  0.1148,\n",
      "          0.1164, -0.0105,  0.0784,  0.0622,  0.0380, -0.0598, -0.1137,  0.0565,\n",
      "          0.0421,  0.0655, -0.1117,  0.0488, -0.1164,  0.0235,  0.0669, -0.0046,\n",
      "          0.0078,  0.0491, -0.0108,  0.0295, -0.0786, -0.0967, -0.1136, -0.0309,\n",
      "          0.1184,  0.1147,  0.1234,  0.0149,  0.0471, -0.0682,  0.1008,  0.0508,\n",
      "         -0.0173,  0.0946, -0.0584, -0.0224,  0.0990, -0.0205,  0.0282,  0.0584,\n",
      "         -0.0690,  0.0599, -0.0307,  0.0907,  0.0905, -0.0629,  0.0934, -0.0349],\n",
      "        [-0.1003, -0.0550, -0.1080, -0.1175,  0.0867, -0.0760, -0.0869,  0.0376,\n",
      "         -0.0005,  0.1118,  0.0712,  0.0053, -0.0153, -0.0230, -0.0422, -0.0611,\n",
      "         -0.0489, -0.1157, -0.0634,  0.1077, -0.0910,  0.0957, -0.0138, -0.0105,\n",
      "         -0.0284,  0.0592, -0.0900, -0.0521, -0.0159, -0.0347, -0.0244, -0.1157,\n",
      "          0.1163,  0.0189, -0.0031,  0.1052,  0.0119, -0.0168,  0.0828,  0.0895,\n",
      "          0.0214,  0.0702, -0.1113, -0.0912, -0.1156, -0.0374, -0.0107, -0.1067,\n",
      "          0.0459, -0.0798, -0.0927,  0.0838,  0.0293,  0.0515,  0.0489, -0.1213,\n",
      "         -0.0618, -0.1164, -0.0141,  0.0414, -0.0514,  0.0904,  0.0518, -0.1045],\n",
      "        [ 0.0697, -0.0200,  0.0865, -0.0561, -0.0741, -0.0596, -0.0565,  0.0476,\n",
      "         -0.0303,  0.0232,  0.0302,  0.0714, -0.0934,  0.0017,  0.0679,  0.0361,\n",
      "          0.0196, -0.1248, -0.0284,  0.0022, -0.0526,  0.1015,  0.0366,  0.0551,\n",
      "          0.1113, -0.0820, -0.0701,  0.0481,  0.1156,  0.0115,  0.0262,  0.0834,\n",
      "         -0.0229,  0.1050, -0.0681, -0.0821, -0.0445, -0.1178,  0.0756,  0.1085,\n",
      "          0.0721, -0.0199, -0.0147,  0.0675,  0.0548,  0.0901, -0.1114, -0.0433,\n",
      "          0.0516,  0.0748,  0.1170,  0.0259,  0.0599, -0.1049,  0.0012,  0.0680,\n",
      "         -0.0794,  0.0187, -0.0765, -0.0060, -0.0774,  0.0800, -0.0204,  0.1236],\n",
      "        [ 0.0630, -0.0349,  0.0790, -0.0513, -0.1039, -0.0509,  0.0895, -0.0271,\n",
      "          0.0321, -0.0570,  0.0936, -0.0402,  0.0150,  0.0290, -0.0862, -0.0448,\n",
      "         -0.0831,  0.1017,  0.0975,  0.1118, -0.0895,  0.1235, -0.0400,  0.0622,\n",
      "         -0.0788,  0.0403,  0.0134,  0.0472, -0.0046, -0.1060,  0.0338,  0.0491,\n",
      "         -0.0765, -0.1178, -0.1128,  0.0631,  0.0956, -0.0132, -0.0376, -0.1035,\n",
      "          0.0654, -0.0886,  0.0646, -0.0066,  0.0704, -0.0541, -0.0974, -0.0136,\n",
      "         -0.0703, -0.0857, -0.0351,  0.1170,  0.0584,  0.0683,  0.0971, -0.0099,\n",
      "         -0.0519,  0.1104, -0.0006, -0.0252,  0.0786,  0.0523, -0.0357,  0.0854],\n",
      "        [-0.0437,  0.1020, -0.0929,  0.0504, -0.0391,  0.0984,  0.1020,  0.0716,\n",
      "          0.1176, -0.1100, -0.0728, -0.0911,  0.0566, -0.0283, -0.0468,  0.0216,\n",
      "         -0.1059,  0.0977,  0.0736, -0.0402, -0.0116,  0.0452,  0.1238,  0.0695,\n",
      "          0.0281,  0.0852, -0.1037,  0.0051, -0.1168, -0.0377, -0.0552,  0.0362,\n",
      "          0.0581,  0.0718, -0.0904,  0.0791,  0.1210,  0.0593,  0.0725,  0.0285,\n",
      "          0.0414, -0.1239,  0.0206, -0.1005,  0.0973,  0.0487,  0.0692, -0.0465,\n",
      "          0.0335, -0.0720, -0.0086, -0.0630, -0.0386, -0.0652,  0.1025,  0.0983,\n",
      "          0.0783,  0.0222, -0.1125,  0.0375,  0.0758,  0.0073,  0.0622,  0.1098],\n",
      "        [ 0.0407, -0.0696, -0.0417,  0.0672, -0.1031,  0.0016, -0.0372,  0.0230,\n",
      "         -0.0507,  0.1013, -0.1169,  0.0615,  0.0311, -0.1103,  0.0809,  0.1222,\n",
      "          0.0547,  0.0194, -0.0936,  0.0917, -0.0255, -0.1155, -0.1163,  0.0302,\n",
      "         -0.0723, -0.1246,  0.0879,  0.0939,  0.0330, -0.0345, -0.0787, -0.1103,\n",
      "          0.0179, -0.0644, -0.0063, -0.0824,  0.1148, -0.0074, -0.1039, -0.0826,\n",
      "          0.0477, -0.0730,  0.0494, -0.1160, -0.0617, -0.0125,  0.0280, -0.0073,\n",
      "          0.1073,  0.1018, -0.0718,  0.0219, -0.0082, -0.1098, -0.0439,  0.0778,\n",
      "          0.0812, -0.1158, -0.0613,  0.0835,  0.1057, -0.0653,  0.0739, -0.0591],\n",
      "        [-0.0262, -0.0377,  0.0124, -0.1068, -0.1096,  0.0216,  0.0854,  0.0465,\n",
      "         -0.0002,  0.1128, -0.0688, -0.0985,  0.0369,  0.0234,  0.0345,  0.0107,\n",
      "          0.0943,  0.0736,  0.0087,  0.0959, -0.0130,  0.0868,  0.0641, -0.0668,\n",
      "         -0.0018, -0.0387,  0.1035, -0.0897,  0.1166,  0.0646,  0.0898, -0.0226,\n",
      "         -0.1075,  0.0719,  0.0748,  0.0608, -0.1194, -0.0346,  0.0989, -0.0760,\n",
      "         -0.1043, -0.0857,  0.0380,  0.0658,  0.0379, -0.0984, -0.0266,  0.1040,\n",
      "          0.0220, -0.0135,  0.0203,  0.1222, -0.1070, -0.0151, -0.1118,  0.0711,\n",
      "         -0.0539,  0.0906,  0.0139,  0.0241,  0.0872, -0.0521,  0.0715,  0.0472],\n",
      "        [-0.0438, -0.0660, -0.0646,  0.1188, -0.0149,  0.0816,  0.1013,  0.0709,\n",
      "          0.0207, -0.0194,  0.0149, -0.0886,  0.0072, -0.0665, -0.0404, -0.1104,\n",
      "         -0.0379, -0.0644,  0.1242, -0.0249,  0.0093,  0.0988, -0.0301, -0.0497,\n",
      "          0.0631,  0.0825,  0.0137, -0.0547,  0.0342, -0.1229,  0.1163, -0.0834,\n",
      "         -0.1169,  0.0691,  0.0692,  0.0948,  0.0971,  0.0875, -0.0805,  0.1028,\n",
      "         -0.0193,  0.0859, -0.0395,  0.0580, -0.0405,  0.0901, -0.1089, -0.0963,\n",
      "         -0.1209,  0.0479, -0.1010, -0.0948,  0.0947, -0.0641, -0.0178, -0.1227,\n",
      "          0.0406,  0.1030,  0.0237,  0.0397, -0.1082, -0.0221,  0.1086,  0.0726],\n",
      "        [-0.0297,  0.0497, -0.0212,  0.1142, -0.1220,  0.0160, -0.0841,  0.0424,\n",
      "         -0.0501,  0.0146, -0.0906, -0.0214,  0.0731, -0.0694,  0.0977, -0.0277,\n",
      "          0.0721, -0.0634,  0.1014,  0.0003, -0.0569, -0.0738, -0.0113, -0.0182,\n",
      "         -0.0644, -0.0403,  0.0432, -0.1172,  0.0329,  0.1190, -0.0519, -0.0486,\n",
      "          0.1052, -0.0505, -0.0215, -0.0867, -0.1233,  0.0402, -0.0252,  0.1025,\n",
      "         -0.0744,  0.1020,  0.0375,  0.0821,  0.1094,  0.0646, -0.1168,  0.1034,\n",
      "          0.0365, -0.0929, -0.0263, -0.0946, -0.0132,  0.1015,  0.0191, -0.0274,\n",
      "          0.0021, -0.0449,  0.0600, -0.0438, -0.0075, -0.1076,  0.0507,  0.0158],\n",
      "        [ 0.0671,  0.0824,  0.0708, -0.0018, -0.0199,  0.0660,  0.0910,  0.0460,\n",
      "         -0.0787, -0.0246, -0.0985, -0.0220,  0.0358, -0.0149, -0.1008, -0.0925,\n",
      "          0.1069,  0.0291,  0.1026,  0.0519, -0.0917,  0.1176,  0.1124, -0.0504,\n",
      "         -0.0248, -0.0519,  0.0329, -0.1204, -0.1180, -0.0058, -0.0811,  0.0774,\n",
      "          0.1089,  0.0684, -0.0084, -0.1087,  0.0213,  0.0306,  0.0065, -0.0537,\n",
      "         -0.0650,  0.0029, -0.0082,  0.1137,  0.0746, -0.0153,  0.1152, -0.0203,\n",
      "          0.0197,  0.0224, -0.0728,  0.0688,  0.0986, -0.1200, -0.0086, -0.0549,\n",
      "          0.1108,  0.0234,  0.0150, -0.0815,  0.1034,  0.0588,  0.0225, -0.0643]],\n",
      "       requires_grad=True)\n",
      "Parameter containing:\n",
      "tensor([ 0.0001, -0.0172,  0.0417, -0.0352, -0.0486,  0.0172, -0.1110, -0.1177,\n",
      "         0.0690,  0.1067], requires_grad=True)\n"
     ]
    }
   ],
   "source": [
    "print(model.fc1.weight)\n",
    "print(model.fc1.bias)"
   ]
  },
  {
   "cell_type": "markdown",
   "metadata": {},
   "source": [
    "For custom initialization, we want to modify these tensors in place. These are actually autograd *Variables*, so we need to get back the actual tensors with `model.fc1.weight.data`. Once we have the tensors, we can fill them with zeros (for biases) or random normal values."
   ]
  },
  {
   "cell_type": "code",
   "execution_count": 14,
   "metadata": {
    "collapsed": true
   },
   "outputs": [
    {
     "data": {
      "text/plain": [
       "tensor([0., 0., 0., 0., 0., 0., 0., 0., 0., 0.])"
      ]
     },
     "execution_count": 14,
     "metadata": {},
     "output_type": "execute_result"
    }
   ],
   "source": [
    "# Set biases to all zeros\n",
    "model.fc1.bias.data.fill_(0)"
   ]
  },
  {
   "cell_type": "code",
   "execution_count": 15,
   "metadata": {
    "collapsed": true
   },
   "outputs": [
    {
     "data": {
      "text/plain": [
       "tensor([[ 1.2528e-03, -9.6648e-03, -1.0683e-02,  4.9273e-03,  5.6283e-03,\n",
       "          5.5934e-03,  1.0700e-02, -1.9863e-02,  1.3552e-02, -1.1504e-02,\n",
       "          1.0991e-02,  8.9559e-04,  8.9810e-03,  1.2940e-02, -1.8392e-03,\n",
       "          2.3960e-03,  1.7387e-03,  7.1086e-03, -6.8067e-03, -7.2699e-03,\n",
       "          7.8789e-03, -6.8498e-03,  1.3858e-02, -1.6103e-02, -1.3599e-02,\n",
       "         -5.6344e-03,  2.3846e-03, -9.7067e-04, -1.0160e-02, -7.6301e-03,\n",
       "         -1.0055e-02,  4.6012e-03,  4.3763e-03,  7.5050e-03, -9.1098e-03,\n",
       "          1.5385e-02, -1.1742e-02, -1.1371e-02, -8.8493e-03,  2.1232e-04,\n",
       "         -1.1141e-03,  1.8063e-03,  3.6748e-03,  6.3787e-03,  1.4056e-02,\n",
       "          1.8553e-03,  2.9001e-03,  5.1205e-03,  8.7408e-04,  1.5301e-02,\n",
       "         -2.3354e-03, -1.7670e-02, -1.8924e-03, -3.1900e-03,  1.2200e-02,\n",
       "          3.7215e-03, -2.6314e-03, -1.5185e-02, -6.6210e-03,  7.9035e-03,\n",
       "          8.9909e-03,  7.8300e-03, -2.3523e-04, -5.1893e-04],\n",
       "        [-1.3130e-03, -6.8739e-03,  4.8031e-03,  1.0601e-03,  1.2832e-02,\n",
       "         -4.0931e-03, -6.4496e-03, -4.8049e-03,  1.4925e-02, -7.7729e-04,\n",
       "         -1.3371e-02,  2.7097e-04, -8.1338e-03, -6.5770e-04,  7.1171e-03,\n",
       "          1.5706e-02, -1.0254e-02,  7.2784e-04, -1.5847e-02, -4.6280e-03,\n",
       "         -9.8169e-03, -2.5808e-03, -1.0904e-02, -1.9186e-02,  1.0261e-03,\n",
       "          4.5388e-03,  1.8248e-04,  1.5147e-02,  6.5446e-03, -4.8870e-03,\n",
       "         -1.0409e-02, -7.3209e-03, -3.9758e-03, -4.6428e-03, -7.4573e-03,\n",
       "          3.1838e-03, -8.1409e-03, -1.6437e-02, -1.5308e-02,  1.7551e-03,\n",
       "         -3.5902e-03, -5.4233e-03, -4.5888e-03, -2.1224e-03,  1.3424e-02,\n",
       "         -4.4527e-04,  4.4529e-03, -9.4387e-03,  2.5314e-03,  2.5294e-03,\n",
       "         -5.0872e-03, -6.2441e-03, -1.3851e-02, -1.0620e-02, -1.2907e-02,\n",
       "          4.5667e-03, -1.0075e-03, -3.2550e-03,  2.0156e-02,  3.6111e-03,\n",
       "          1.6543e-02, -1.2721e-03,  3.8539e-03, -1.3493e-02],\n",
       "        [-4.4470e-03, -3.5625e-03,  2.3162e-02,  9.0342e-04,  8.9098e-03,\n",
       "          1.1273e-03,  1.6264e-02,  8.6548e-03,  3.5814e-03,  1.6829e-02,\n",
       "          2.1116e-02,  2.5866e-03, -1.2144e-02, -1.0025e-02,  1.8517e-03,\n",
       "         -3.6140e-03,  2.9227e-03, -1.1038e-02,  4.0569e-03, -1.1504e-02,\n",
       "         -2.0587e-02, -1.3231e-02,  4.1946e-03, -1.6772e-02,  4.9854e-03,\n",
       "          3.0430e-04, -1.6061e-03, -1.5860e-02,  6.4344e-03,  1.0270e-02,\n",
       "         -3.8823e-03, -3.0140e-03, -6.2168e-03, -2.5450e-02, -1.7649e-02,\n",
       "          1.3086e-02, -1.0129e-02, -1.4149e-02, -3.6403e-04,  1.1733e-03,\n",
       "          1.0745e-02, -2.6952e-03, -1.7330e-02,  1.1162e-02,  2.7892e-03,\n",
       "         -1.5261e-02, -2.4640e-03,  3.2685e-03, -1.0608e-02,  1.3395e-02,\n",
       "          2.3828e-03,  4.6915e-04,  3.4293e-03,  9.1805e-03,  1.2837e-02,\n",
       "         -6.6505e-03,  1.0898e-02, -1.1921e-02,  1.2428e-02, -9.9707e-03,\n",
       "          7.0846e-03, -2.3061e-03, -4.9342e-03,  4.4221e-03],\n",
       "        [-9.3456e-03, -6.8767e-04,  7.9553e-03, -1.0632e-02,  8.5207e-03,\n",
       "          1.5592e-02,  4.0321e-03, -1.6223e-02, -1.7509e-02,  4.3506e-03,\n",
       "          1.2625e-02, -5.7052e-03, -7.4018e-03,  7.5196e-03,  9.0776e-03,\n",
       "          2.1230e-02,  5.8338e-03,  1.7195e-03,  9.0661e-03,  1.5067e-02,\n",
       "          5.7227e-03, -5.3550e-03,  3.4190e-03, -3.9355e-04, -1.1200e-03,\n",
       "          8.6075e-03,  1.4082e-02, -3.8896e-03, -9.0203e-03, -4.3330e-03,\n",
       "         -1.0714e-02, -3.4495e-03,  2.1736e-02, -1.7324e-02,  2.5472e-03,\n",
       "          6.4477e-03,  2.3795e-03,  4.8356e-03,  3.9561e-03,  1.2587e-02,\n",
       "          2.6237e-02, -1.5852e-02, -2.3913e-03, -1.0906e-02,  3.1497e-03,\n",
       "         -1.8711e-02,  7.9896e-03, -4.9006e-03,  2.4532e-03,  7.7466e-03,\n",
       "         -1.6100e-02,  1.0743e-02, -1.2703e-02, -8.0683e-04, -2.1111e-02,\n",
       "          1.6848e-02, -2.5368e-03, -7.6093e-03,  1.6903e-03,  9.4718e-03,\n",
       "          9.4003e-04,  3.3619e-03, -9.6567e-03, -9.2501e-03],\n",
       "        [-6.0172e-03, -1.1688e-02, -2.3048e-02, -4.1448e-03,  6.1769e-04,\n",
       "         -4.2691e-03,  1.8475e-02,  5.0665e-03, -1.5541e-03, -1.9352e-03,\n",
       "         -1.3170e-02,  8.5749e-04, -1.0173e-02,  1.8774e-03,  1.2861e-02,\n",
       "         -7.4663e-03, -1.0646e-02,  1.1753e-02,  4.8324e-03, -1.9342e-03,\n",
       "         -2.4747e-03,  1.2970e-03,  8.2949e-03,  6.4733e-03,  5.4256e-03,\n",
       "         -5.6610e-03, -9.4587e-03,  1.3343e-03,  6.3327e-03, -6.9823e-03,\n",
       "          8.8685e-03, -6.9891e-03,  5.2455e-03, -4.9351e-03, -6.0619e-03,\n",
       "          6.7609e-03,  2.0523e-03,  4.5204e-03,  5.1375e-03, -7.0954e-05,\n",
       "         -6.6190e-03,  1.3945e-02, -2.1816e-03, -8.3914e-03, -1.4209e-02,\n",
       "          5.6694e-03,  2.9841e-03,  7.3979e-03,  4.5177e-03,  4.6543e-03,\n",
       "          2.4286e-03, -1.1728e-02, -2.4219e-03,  1.9633e-02, -3.3882e-03,\n",
       "         -1.2767e-03, -1.1315e-03, -1.1338e-02,  8.4494e-03, -5.1967e-03,\n",
       "          1.8086e-02, -6.0672e-03,  4.4008e-03, -1.1757e-02],\n",
       "        [ 7.2400e-03, -6.3606e-03, -1.6712e-04, -1.8794e-02, -6.1223e-03,\n",
       "         -8.4737e-03,  1.4184e-03,  4.6356e-03, -7.8106e-03,  1.3008e-02,\n",
       "          2.2528e-02,  1.0750e-02,  1.1093e-03, -2.5552e-03, -1.0375e-02,\n",
       "         -2.1599e-03, -4.7356e-03,  2.8581e-03,  4.3418e-03, -1.1175e-02,\n",
       "         -2.1456e-03,  3.9164e-03,  2.9606e-03,  2.6959e-03, -8.6734e-03,\n",
       "          3.6024e-04, -2.3586e-02,  1.8265e-02, -2.1476e-03,  2.4710e-03,\n",
       "          2.0979e-02,  1.1292e-02,  2.1482e-03,  6.9591e-03,  1.8366e-02,\n",
       "         -1.9385e-03,  5.9564e-03,  4.4264e-03,  2.6098e-03, -1.5028e-02,\n",
       "         -1.4384e-02,  6.6955e-03,  1.2299e-02,  2.0368e-02, -2.5974e-03,\n",
       "         -2.0843e-03,  5.6870e-03,  1.0615e-02,  1.2831e-02,  7.1842e-03,\n",
       "          5.6752e-04, -4.2405e-03, -1.2029e-02,  1.1680e-02, -9.6822e-03,\n",
       "          2.7253e-03, -2.0612e-03,  3.3256e-03, -9.1414e-03, -4.5941e-03,\n",
       "         -9.2507e-03,  2.5756e-03, -7.8386e-03, -1.7398e-02],\n",
       "        [ 5.7383e-03, -2.1245e-03,  1.1988e-02, -5.7997e-05, -1.0600e-02,\n",
       "         -3.8517e-03,  6.2055e-04, -1.5104e-02, -6.3684e-03, -8.4342e-03,\n",
       "         -6.3274e-03,  1.3381e-04,  1.0742e-02,  1.1753e-02,  7.2876e-03,\n",
       "          7.3948e-03, -8.5755e-03, -2.6698e-03, -1.2440e-02,  2.8961e-03,\n",
       "         -6.3061e-03, -2.1093e-03, -3.0077e-03, -6.9189e-03, -1.7596e-02,\n",
       "          1.4647e-02,  1.0668e-02,  3.1270e-03, -2.3035e-02, -1.5657e-02,\n",
       "         -9.2345e-03, -3.7002e-03,  1.6951e-03, -1.9944e-02,  3.1982e-02,\n",
       "          2.8520e-02, -6.2316e-03, -1.3827e-02,  7.2772e-03, -1.2313e-02,\n",
       "          2.8100e-03,  4.3767e-03,  6.6337e-03,  7.4063e-03, -1.1866e-02,\n",
       "          9.3014e-03, -1.5304e-02, -1.9252e-02, -1.7778e-02,  1.2769e-02,\n",
       "          1.1168e-02,  1.2090e-02,  2.7301e-02,  4.0141e-03,  1.4519e-02,\n",
       "          8.6117e-03, -9.4309e-03,  3.1917e-03,  2.2448e-03,  8.8093e-03,\n",
       "          3.5081e-03,  3.7177e-03, -2.2231e-03,  1.1579e-02],\n",
       "        [ 7.0094e-03, -1.0744e-02,  1.7819e-02,  2.0201e-03, -6.8690e-03,\n",
       "          1.2522e-02, -2.4646e-03, -1.4309e-02, -6.5757e-03,  2.0381e-02,\n",
       "         -3.3975e-03, -2.1264e-03, -3.6754e-03,  1.3826e-02,  7.9378e-03,\n",
       "          6.1062e-03, -1.1891e-02, -4.5415e-03, -1.5234e-02, -1.8967e-03,\n",
       "          8.4264e-03, -1.3259e-02,  3.7799e-03, -4.7384e-03,  1.4030e-02,\n",
       "          1.8466e-03,  1.4234e-02, -3.3779e-03,  6.2669e-04, -7.8177e-04,\n",
       "          4.4304e-03,  2.2300e-03, -4.7902e-03, -6.9916e-03,  1.3336e-03,\n",
       "          1.4916e-02, -2.0184e-02,  3.7908e-03,  8.3933e-04,  1.9334e-02,\n",
       "          1.7151e-03, -1.4884e-02, -6.0764e-03,  1.4527e-03, -9.9816e-03,\n",
       "         -7.6987e-03, -7.1018e-03,  2.0962e-02,  1.0322e-02, -1.1503e-02,\n",
       "          1.0574e-02, -7.0167e-03, -7.3763e-03, -8.8916e-03,  8.4467e-03,\n",
       "          4.2586e-03, -1.6211e-02, -1.5356e-02,  1.3124e-02, -3.9820e-03,\n",
       "         -8.4323e-03, -7.5368e-03, -1.9069e-03, -3.5836e-03],\n",
       "        [-5.9664e-03, -1.1539e-02, -2.3563e-03,  1.5148e-02, -2.6680e-02,\n",
       "         -2.6898e-03, -1.0202e-02, -4.6289e-03, -1.5281e-03, -1.5701e-02,\n",
       "          1.6277e-02, -1.1953e-02,  2.5257e-02, -1.5096e-02,  8.5478e-03,\n",
       "         -1.1059e-02, -2.3623e-02, -3.1998e-03,  1.6106e-02,  7.8030e-03,\n",
       "         -6.2570e-03, -1.5498e-02,  2.7518e-03,  4.1272e-03, -3.3209e-02,\n",
       "         -1.4322e-02,  4.9809e-03,  1.8013e-02, -1.7339e-02,  2.8159e-03,\n",
       "          5.3892e-03,  4.1329e-03,  9.8637e-03,  2.6200e-03, -4.7898e-03,\n",
       "         -1.1441e-03, -1.1648e-02,  1.8806e-03, -1.0460e-02,  4.1122e-03,\n",
       "         -6.5442e-03,  2.2037e-03, -4.8471e-03, -2.8064e-03, -1.4530e-02,\n",
       "         -9.2867e-03, -3.1814e-03,  5.8644e-03, -7.4914e-03,  1.3832e-02,\n",
       "          2.3461e-03,  4.9235e-03, -8.4471e-04, -1.0444e-02, -5.7904e-03,\n",
       "         -1.6002e-02,  7.4072e-04,  1.2448e-02,  8.6380e-03, -4.2653e-04,\n",
       "          7.6120e-03, -1.1161e-03,  7.9949e-03, -1.0686e-03],\n",
       "        [ 4.7174e-04,  1.7351e-03, -2.0277e-02,  1.5025e-03, -2.8886e-03,\n",
       "          1.8571e-02,  1.6158e-03, -1.4226e-02,  3.3826e-03,  3.9107e-03,\n",
       "         -4.4129e-04,  1.9576e-03, -5.8445e-04,  1.3155e-02, -7.4953e-03,\n",
       "         -2.5174e-03,  2.7584e-03,  1.2440e-02, -8.4630e-03,  1.8343e-02,\n",
       "          1.0468e-02,  4.5769e-03,  8.4714e-03, -2.4653e-02, -4.0034e-06,\n",
       "          1.0402e-02,  9.0008e-03,  1.1062e-02,  1.0211e-02, -1.6628e-03,\n",
       "          3.2076e-03, -7.6920e-03, -3.5269e-03, -1.2567e-02,  2.4975e-03,\n",
       "         -4.1590e-03,  1.7165e-02,  3.0752e-03, -1.1542e-02, -1.3607e-02,\n",
       "         -1.5903e-02,  1.1425e-02,  3.6686e-03,  1.0204e-03, -6.5950e-03,\n",
       "         -1.0584e-02, -1.8339e-02,  3.7550e-03,  4.4498e-03,  2.9160e-03,\n",
       "          1.7318e-02, -5.2306e-03, -5.0941e-03,  2.0068e-03, -2.4151e-02,\n",
       "          3.9260e-03, -2.0748e-02,  5.4253e-03,  8.4603e-03, -2.3193e-04,\n",
       "         -2.5056e-03, -1.5227e-02, -1.3421e-02,  1.4851e-02]])"
      ]
     },
     "execution_count": 15,
     "metadata": {},
     "output_type": "execute_result"
    }
   ],
   "source": [
    "# sample from random normal with standard dev = 0.01\n",
    "model.fc1.weight.data.normal_(std=0.01)"
   ]
  },
  {
   "cell_type": "markdown",
   "metadata": {},
   "source": [
    "### Forward pass\n",
    "\n",
    "Now that we have a network, let's see what happens when we pass in an image."
   ]
  },
  {
   "cell_type": "code",
   "execution_count": 16,
   "metadata": {
    "collapsed": true
   },
   "outputs": [
    {
     "data": {
      "image/png": "[encoded data removed]",
      "text/plain": [
       "<Figure size 600x900 with 2 Axes>"
      ]
     },
     "metadata": {
      "image/png": {
       "height": 327,
       "width": 589
      }
     },
     "output_type": "display_data"
    }
   ],
   "source": [
    "# Grab some data \n",
    "dataiter = iter(trainloader)\n",
    "images, labels = next(dataiter)\n",
    "\n",
    "# Resize images into a 1D vector, new shape is (batch size, color channels, image pixels) \n",
    "images.resize_(64, 1, 784)\n",
    "# or images.resize_(images.shape[0], 1, 784) to automatically get batch size\n",
    "\n",
    "# Forward pass through the network\n",
    "img_idx = 0\n",
    "ps = model.forward(images[img_idx,:])\n",
    "\n",
    "img = images[img_idx]\n",
    "helper.view_classify(img.view(1, 28, 28), ps)"
   ]
  },
  {
   "cell_type": "markdown",
   "metadata": {},
   "source": [
    "As you can see above, our network has basically no idea what this digit is. It's because we haven't trained it yet, all the weights are random!\n",
    "\n",
    "### Using `nn.Sequential`\n",
    "\n",
    "PyTorch provides a convenient way to build networks like this where a tensor is passed sequentially through operations, `nn.Sequential` ([documentation](https://pytorch.org/docs/master/nn.html#torch.nn.Sequential)). Using this to build the equivalent network:"
   ]
  },
  {
   "cell_type": "code",
   "execution_count": 17,
   "metadata": {
    "collapsed": true
   },
   "outputs": [
    {
     "name": "stdout",
     "output_type": "stream",
     "text": [
      "Sequential(\n",
      "  (0): Linear(in_features=784, out_features=128, bias=True)\n",
      "  (1): ReLU()\n",
      "  (2): Linear(in_features=128, out_features=64, bias=True)\n",
      "  (3): ReLU()\n",
      "  (4): Linear(in_features=64, out_features=10, bias=True)\n",
      "  (5): Softmax(dim=1)\n",
      ")\n"
     ]
    },
    {
     "data": {
      "image/png": "[encoded data removed]",
      "text/plain": [
       "<Figure size 600x900 with 2 Axes>"
      ]
     },
     "metadata": {
      "image/png": {
       "height": 327,
       "width": 589
      }
     },
     "output_type": "display_data"
    }
   ],
   "source": [
    "# Hyperparameters for our network\n",
    "input_size = 784\n",
    "hidden_sizes = [128, 64]\n",
    "output_size = 10\n",
    "\n",
    "# Build a feed-forward network\n",
    "model = nn.Sequential(nn.Linear(input_size, hidden_sizes[0]),\n",
    "                      nn.ReLU(),\n",
    "                      nn.Linear(hidden_sizes[0], hidden_sizes[1]),\n",
    "                      nn.ReLU(),\n",
    "                      nn.Linear(hidden_sizes[1], output_size),\n",
    "                      nn.Softmax(dim=1))\n",
    "print(model)\n",
    "\n",
    "# Forward pass through the network and display output\n",
    "images, labels = next(iter(trainloader))\n",
    "images.resize_(images.shape[0], 1, 784)\n",
    "ps = model.forward(images[0,:])\n",
    "helper.view_classify(images[0].view(1, 28, 28), ps)"
   ]
  },
  {
   "cell_type": "markdown",
   "metadata": {},
   "source": [
    "Here our model is the same as before: 784 input units, a hidden layer with 128 units, ReLU activation, 64 unit hidden layer, another ReLU, then the output layer with 10 units, and the softmax output.\n",
    "\n",
    "The operations are available by passing in the appropriate index. For example, if you want to get first Linear operation and look at the weights, you'd use `model[0]`."
   ]
  },
  {
   "cell_type": "code",
   "execution_count": 18,
   "metadata": {
    "collapsed": true
   },
   "outputs": [
    {
     "name": "stdout",
     "output_type": "stream",
     "text": [
      "Linear(in_features=784, out_features=128, bias=True)\n"
     ]
    },
    {
     "data": {
      "text/plain": [
       "Parameter containing:\n",
       "tensor([[-0.0094, -0.0327,  0.0308,  ..., -0.0073, -0.0090,  0.0039],\n",
       "        [ 0.0147,  0.0027,  0.0253,  ..., -0.0202,  0.0115, -0.0026],\n",
       "        [ 0.0003, -0.0252,  0.0285,  ...,  0.0140, -0.0111, -0.0127],\n",
       "        ...,\n",
       "        [-0.0008,  0.0111, -0.0007,  ..., -0.0058,  0.0038, -0.0068],\n",
       "        [ 0.0022, -0.0027, -0.0259,  ...,  0.0228,  0.0300, -0.0324],\n",
       "        [-0.0035,  0.0351,  0.0314,  ...,  0.0105,  0.0297, -0.0056]],\n",
       "       requires_grad=True)"
      ]
     },
     "execution_count": 18,
     "metadata": {},
     "output_type": "execute_result"
    }
   ],
   "source": [
    "print(model[0])\n",
    "model[0].weight"
   ]
  },
  {
   "cell_type": "markdown",
   "metadata": {},
   "source": [
    "You can also pass in an `OrderedDict` to name the individual layers and operations, instead of using incremental integers. Note that dictionary keys must be unique, so _each operation must have a different name_."
   ]
  },
  {
   "cell_type": "code",
   "execution_count": 19,
   "metadata": {
    "collapsed": true
   },
   "outputs": [
    {
     "data": {
      "text/plain": [
       "Sequential(\n",
       "  (fc1): Linear(in_features=784, out_features=128, bias=True)\n",
       "  (relu1): ReLU()\n",
       "  (fc2): Linear(in_features=128, out_features=64, bias=True)\n",
       "  (relu2): ReLU()\n",
       "  (output): Linear(in_features=64, out_features=10, bias=True)\n",
       "  (softmax): Softmax(dim=1)\n",
       ")"
      ]
     },
     "execution_count": 19,
     "metadata": {},
     "output_type": "execute_result"
    }
   ],
   "source": [
    "from collections import OrderedDict\n",
    "model = nn.Sequential(OrderedDict([\n",
    "                      ('fc1', nn.Linear(input_size, hidden_sizes[0])),\n",
    "                      ('relu1', nn.ReLU()),\n",
    "                      ('fc2', nn.Linear(hidden_sizes[0], hidden_sizes[1])),\n",
    "                      ('relu2', nn.ReLU()),\n",
    "                      ('output', nn.Linear(hidden_sizes[1], output_size)),\n",
    "                      ('softmax', nn.Softmax(dim=1))]))\n",
    "model"
   ]
  },
  {
   "cell_type": "markdown",
   "metadata": {},
   "source": [
    "Now you can access layers either by integer or the name"
   ]
  },
  {
   "cell_type": "code",
   "execution_count": 20,
   "metadata": {
    "collapsed": true
   },
   "outputs": [
    {
     "name": "stdout",
     "output_type": "stream",
     "text": [
      "Linear(in_features=784, out_features=128, bias=True)\n",
      "Linear(in_features=784, out_features=128, bias=True)\n"
     ]
    }
   ],
   "source": [
    "print(model[0])\n",
    "print(model.fc1)"
   ]
  },
  {
   "cell_type": "markdown",
   "metadata": {},
   "source": [
    "In the next notebook, we'll see how we can train a neural network to accuractly predict the numbers appearing in the MNIST images."
   ]
  }
 ],
 "metadata": {
  "kernelspec": {
   "display_name": "Python 3",
   "language": "python",
   "name": "python3"
  },
  "language_info": {
   "codemirror_mode": {
    "name": "ipython",
    "version": 3
   },
   "file_extension": ".py",
   "mimetype": "text/x-python",
   "name": "python",
   "nbconvert_exporter": "python",
   "pygments_lexer": "ipython3",
   "version": "3.10.11"
  },
  "vscode": {
   "interpreter": {
    "hash": "916dbcbb3f70747c44a77c7bcd40155683ae19c65e1c03b4aa3499c5328201f1"
   }
  }
 },
 "nbformat": 4,
 "nbformat_minor": 2
}
